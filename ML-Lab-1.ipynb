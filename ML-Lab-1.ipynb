{
 "cells": [
  {
   "cell_type": "code",
   "execution_count": 13,
   "id": "6f376dbe",
   "metadata": {},
   "outputs": [],
   "source": [
    "import numpy as np\n",
    "import matplotlib.pyplot as plt"
   ]
  },
  {
   "cell_type": "code",
   "execution_count": 2,
   "id": "28d1325c",
   "metadata": {},
   "outputs": [
    {
     "name": "stdout",
     "output_type": "stream",
     "text": [
      "[1.2 2.4 3.5 4.7 6.1 7.2 8.3 9.5]\n"
     ]
    }
   ],
   "source": [
    "one_dimensional_array = np.array([1.2, 2.4, 3.5, 4.7, 6.1, 7.2, 8.3, 9.5])\n",
    "print(one_dimensional_array)"
   ]
  },
  {
   "cell_type": "code",
   "execution_count": 3,
   "id": "49ebadf0",
   "metadata": {},
   "outputs": [
    {
     "name": "stdout",
     "output_type": "stream",
     "text": [
      "[[ 6  5]\n",
      " [11  7]\n",
      " [ 4  8]]\n"
     ]
    }
   ],
   "source": [
    "two_dimensional_array = np.array([[6, 5], [11, 7], [4, 8]])\n",
    "print(two_dimensional_array)"
   ]
  },
  {
   "cell_type": "code",
   "execution_count": 6,
   "id": "7e48b635",
   "metadata": {},
   "outputs": [
    {
     "name": "stdout",
     "output_type": "stream",
     "text": [
      "[ 1  2  3  4  5  6  7  8  9 10]\n"
     ]
    }
   ],
   "source": [
    "sequence_of_integers = np.arange(1, 11)\n",
    "print(sequence_of_integers)"
   ]
  },
  {
   "cell_type": "code",
   "execution_count": 23,
   "id": "7c01f1ad",
   "metadata": {},
   "outputs": [
    {
     "name": "stdout",
     "output_type": "stream",
     "text": [
      "[82 66 50 59 94 54]\n"
     ]
    }
   ],
   "source": [
    "random_integers_between_50_and_100 = np.random.randint(low=50, high=101, size=(6))\n",
    "print(random_integers_between_50_and_100)"
   ]
  },
  {
   "cell_type": "code",
   "execution_count": 10,
   "id": "5f8ed79b",
   "metadata": {},
   "outputs": [
    {
     "name": "stdout",
     "output_type": "stream",
     "text": [
      "[0.00969966 0.00794023 0.1154163  0.6086612  0.73386206 0.8199417 ]\n"
     ]
    }
   ],
   "source": [
    "random_floats_between_0_and_1 = np.random.random([6])\n",
    "print(random_floats_between_0_and_1) "
   ]
  },
  {
   "cell_type": "code",
   "execution_count": 12,
   "id": "a1016847",
   "metadata": {},
   "outputs": [
    {
     "name": "stdout",
     "output_type": "stream",
     "text": [
      "[2.00969966 2.00794023 2.1154163  2.6086612  2.73386206 2.8199417 ]\n"
     ]
    }
   ],
   "source": [
    "random_floats_between_2_and_3 = random_floats_between_0_and_1 + 2.0\n",
    "print(random_floats_between_2_and_3)"
   ]
  },
  {
   "cell_type": "code",
   "execution_count": 13,
   "id": "a05ef223",
   "metadata": {},
   "outputs": [
    {
     "name": "stdout",
     "output_type": "stream",
     "text": [
      "[243 156 174 204 165 204]\n"
     ]
    }
   ],
   "source": [
    "random_integers_between_150_and_300 = random_integers_between_50_and_100 * 3\n",
    "print(random_integers_between_150_and_300)"
   ]
  },
  {
   "cell_type": "code",
   "execution_count": 18,
   "id": "6547d480",
   "metadata": {},
   "outputs": [
    {
     "name": "stdout",
     "output_type": "stream",
     "text": [
      "[ 6  7  8  9 10 11 12 13 14 15 16 17 18 19 20]\n",
      "[18 20 22 24 26 28 30 32 34 36 38 40 42 44 46]\n"
     ]
    }
   ],
   "source": [
    "#Machine Learning Task 1 Zohaib Amjad.\n",
    "feature = np.arange(6, 21)\n",
    "print(feature)\n",
    "label = (feature * 2) + 6\n",
    "print(label)"
   ]
  },
  {
   "cell_type": "code",
   "execution_count": 24,
   "id": "850b1d7c",
   "metadata": {},
   "outputs": [
    {
     "name": "stdout",
     "output_type": "stream",
     "text": [
      "[ 0.99183656 -1.87050239  1.20426799  0.30774753 -0.37523221 -1.90419384\n",
      " -0.7980956   0.57871678 -1.38899713  1.34992858 -0.21101898 -1.95768027\n",
      " -0.76706647  0.7156442   1.57621453]\n",
      "[15.95206194 14.73434087 18.40736723 21.67956643 21.48663123 21.45936253\n",
      " 25.99421415 28.35172934 27.71645953 33.37992263 33.33007007 33.12077137\n",
      " 37.39038564 41.34205177 45.65043514]\n"
     ]
    }
   ],
   "source": [
    "#Machine Learning Task 2 Zohaib Amjad\n",
    "noise = (np.random.random([15]) * 4) - 2\n",
    "print(noise)\n",
    "label = label + noise \n",
    "print(label)"
   ]
  },
  {
   "cell_type": "code",
   "execution_count": 14,
   "id": "4879ea1e",
   "metadata": {},
   "outputs": [
    {
     "name": "stdout",
     "output_type": "stream",
     "text": [
      "[[ 3.11059625  4.7133541 ]\n",
      " [ 3.36898959  7.4757252 ]\n",
      " [-0.06560755  3.7786474 ]\n",
      " [ 1.58230164 -2.15365839]\n",
      " [ 1.83603321 -6.9566327 ]\n",
      " [ 1.99876508 -8.36837766]\n",
      " [ 9.72255177  9.97860338]\n",
      " [ 5.39501309 -3.59230592]\n",
      " [-3.65647661 -5.49264762]\n",
      " [ 6.52958002  0.33943596]\n",
      " [ 2.69543623 -8.98760789]\n",
      " [-9.83772228 -4.72040531]\n",
      " [-3.67860715  9.51112449]\n",
      " [ 9.99514446 -2.02977077]\n",
      " [-7.15045649 -5.19734073]\n",
      " [ 3.17283484 -0.05965638]\n",
      " [ 1.30314554 -3.90508063]\n",
      " [ 6.7492132   2.14414788]\n",
      " [-4.11148195 -0.08379099]\n",
      " [-6.99576381  8.01614091]\n",
      " [ 9.69844932  6.63269698]\n",
      " [-5.4390468   8.6083959 ]\n",
      " [ 0.30772668  9.27643107]\n",
      " [-9.01988106 -5.51086749]\n",
      " [-3.90520458  3.72868456]\n",
      " [-1.87090171  5.7614266 ]\n",
      " [-4.52061969 -5.68081619]\n",
      " [ 2.97066971  9.02661514]\n",
      " [ 1.37603342  4.54315006]\n",
      " [-5.02814167 -3.48166061]]\n",
      "[ 15.64790071  21.68942957   7.4260797   -1.1427135  -10.24119898\n",
      " -12.73922517  39.40231031   3.60541433 -18.29824845  13.73803196\n",
      " -12.58434331 -29.11625517  11.66503468  15.93074739 -24.69559444\n",
      "   6.22635694  -5.20387017  17.78672217  -8.39054586   2.0407542\n",
      "  32.66229261   6.3386982   19.16831551 -29.0614971   -0.35304003\n",
      "   7.78104977 -20.40287176  23.9945697   11.83836696 -17.01960456]\n"
     ]
    },
    {
     "data": {
      "image/png": "[encoded data removed]",
      "text/plain": [
       "<Figure size 432x288 with 1 Axes>"
      ]
     },
     "metadata": {
      "needs_background": "light"
     },
     "output_type": "display_data"
    }
   ],
   "source": [
    "features = (np.random.random([30,2]) * 20) - 10\n",
    "print(features)\n",
    "f1= features [:, 0]\n",
    "f2= features [:, 1]\n",
    "label = (f1+f2)*2\n",
    "print(label)\n",
    "plt.scatter(f1,label)\n",
    "plt.scatter(f2,label)\n",
    "plt.show()"
   ]
  },
  {
   "cell_type": "code",
   "execution_count": null,
   "id": "de31f5c2",
   "metadata": {},
   "outputs": [],
   "source": []
  }
 ],
 "metadata": {
  "kernelspec": {
   "display_name": "Python 3 (ipykernel)",
   "language": "python",
   "name": "python3"
  },
  "language_info": {
   "codemirror_mode": {
    "name": "ipython",
    "version": 3
   },
   "file_extension": ".py",
   "mimetype": "text/x-python",
   "name": "python",
   "nbconvert_exporter": "python",
   "pygments_lexer": "ipython3",
   "version": "3.9.12"
  }
 },
 "nbformat": 4,
 "nbformat_minor": 5
}
